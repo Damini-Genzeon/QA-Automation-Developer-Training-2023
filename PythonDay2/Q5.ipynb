{
  "nbformat": 4,
  "nbformat_minor": 0,
  "metadata": {
    "colab": {
      "provenance": [],
      "authorship_tag": "ABX9TyP0bGaVlIkDUDCV2h8/sEpt",
      "include_colab_link": true
    },
    "kernelspec": {
      "name": "python3",
      "display_name": "Python 3"
    },
    "language_info": {
      "name": "python"
    }
  },
  "cells": [
    {
      "cell_type": "markdown",
      "metadata": {
        "id": "view-in-github",
        "colab_type": "text"
      },
      "source": [
        "<a href=\"https://colab.research.google.com/github/Damini-Genzeon/QA-Automation-Developer-Training-2023/blob/main/PythonDay2/Q5.ipynb\" target=\"_parent\"><img src=\"https://colab.research.google.com/assets/colab-badge.svg\" alt=\"Open In Colab\"/></a>"
      ]
    },
    {
      "cell_type": "code",
      "execution_count": 15,
      "metadata": {
        "colab": {
          "base_uri": "https://localhost:8080/"
        },
        "id": "qslCkOV2KdRR",
        "outputId": "f1fe6b9b-a42d-413c-98d9-0098fee36a03"
      },
      "outputs": [
        {
          "output_type": "stream",
          "name": "stdout",
          "text": [
            "UOIE\n"
          ]
        }
      ],
      "source": [
        "# Q5\n",
        "statelist = [\"Delhi\",\"Bihar\",\"UP\",\"Goa\",\"Gujarat\",\"Assam\",\"AP\"]\n",
        "vowelList = ['A','a','E','e','I','i','O','o','U','u']\n",
        "str1 = \"\"\n",
        "\n",
        "for item in statelist:\n",
        "  length = len(item)\n",
        "  if item[1] in vowelList:\n",
        "    str1 = str1 + item[1]\n",
        "\n",
        "list1 = list(str2)\n",
        "list1.sort(reverse = True)\n",
        "str2 = \"\"\n",
        "\n",
        "for item in list1:\n",
        "  str2 = str2 + item\n",
        "\n",
        "print(str2.upper())\n"
      ]
    }
  ]
}