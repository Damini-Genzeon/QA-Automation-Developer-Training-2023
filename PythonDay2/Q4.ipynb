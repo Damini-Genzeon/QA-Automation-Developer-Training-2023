{
  "nbformat": 4,
  "nbformat_minor": 0,
  "metadata": {
    "colab": {
      "provenance": [],
      "authorship_tag": "ABX9TyPJQRJqWRz47GqTDTUC4cf3",
      "include_colab_link": true
    },
    "kernelspec": {
      "name": "python3",
      "display_name": "Python 3"
    },
    "language_info": {
      "name": "python"
    }
  },
  "cells": [
    {
      "cell_type": "markdown",
      "metadata": {
        "id": "view-in-github",
        "colab_type": "text"
      },
      "source": [
        "<a href=\"https://colab.research.google.com/github/Damini-Genzeon/QA-Automation-Developer-Training-2023/blob/main/PythonDay2/Q4.ipynb\" target=\"_parent\"><img src=\"https://colab.research.google.com/assets/colab-badge.svg\" alt=\"Open In Colab\"/></a>"
      ]
    },
    {
      "cell_type": "code",
      "execution_count": 41,
      "metadata": {
        "colab": {
          "base_uri": "https://localhost:8080/"
        },
        "id": "J3OKqtMbMEF0",
        "outputId": "ac4b48c6-a516-456a-c07c-83891c38be10"
      },
      "outputs": [
        {
          "output_type": "stream",
          "name": "stdout",
          "text": [
            "AO\n"
          ]
        }
      ],
      "source": [
        "# Q4\n",
        "\n",
        "statelist = [\"Delhi\",\"Bihar\",\"Goa\",\"Gujarat\",\"Assam\"]\n",
        "vowelList = ['A','a','E','e','I','i','O','o','U','u']\n",
        "str1 = \"\"\n",
        "\n",
        "for item in statelist:\n",
        "  length = len(item)\n",
        "  if (item[int(length/2)] in vowelList):\n",
        "    str1 = str1 + item[int(length/2)]\n",
        "\n",
        "str2 = str1[len(str1)-1::-1].upper()\n",
        "print(str2)\n"
      ]
    }
  ]
}