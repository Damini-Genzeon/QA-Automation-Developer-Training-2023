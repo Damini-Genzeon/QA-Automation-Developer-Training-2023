{
  "nbformat": 4,
  "nbformat_minor": 0,
  "metadata": {
    "colab": {
      "provenance": [],
      "authorship_tag": "ABX9TyNmbW5FIwqPBaAdcqsSV98m",
      "include_colab_link": true
    },
    "kernelspec": {
      "name": "python3",
      "display_name": "Python 3"
    },
    "language_info": {
      "name": "python"
    }
  },
  "cells": [
    {
      "cell_type": "markdown",
      "metadata": {
        "id": "view-in-github",
        "colab_type": "text"
      },
      "source": [
        "<a href=\"https://colab.research.google.com/github/Damini-Genzeon/QA-Automation-Developer-Training-2023/blob/main/PythonDay2/Q2.ipynb\" target=\"_parent\"><img src=\"https://colab.research.google.com/assets/colab-badge.svg\" alt=\"Open In Colab\"/></a>"
      ]
    },
    {
      "cell_type": "code",
      "execution_count": 7,
      "metadata": {
        "colab": {
          "base_uri": "https://localhost:8080/"
        },
        "id": "02peyyaK6oNX",
        "outputId": "fb270325-8964-4131-a885-5c6d36d2b6c5"
      },
      "outputs": [
        {
          "output_type": "stream",
          "name": "stdout",
          "text": [
            "enter string : This program converts spaces into hyphen\n",
            "This-program-converts-spaces-into-hyphen\n"
          ]
        }
      ],
      "source": [
        "# Q2. SpaceTo Hyphen problem\n",
        "# Take a string as input, and replaces spaces “ “ with hyphens “- ”, and returns a string.\n",
        "# “This program converts spaces into hyphen” becomes\n",
        "# “ This-program-converts-spaces-into-hyphen”\n",
        "\n",
        "str1 = input(\"enter string : \")\n",
        "str2 = str1.replace(\" \",\"-\")\n",
        "print(str2)\n"
      ]
    }
  ]
}