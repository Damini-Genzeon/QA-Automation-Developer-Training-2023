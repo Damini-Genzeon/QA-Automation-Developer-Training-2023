{
  "nbformat": 4,
  "nbformat_minor": 0,
  "metadata": {
    "colab": {
      "provenance": [],
      "authorship_tag": "ABX9TyMfi1efoou/B40lRhVblq7F",
      "include_colab_link": true
    },
    "kernelspec": {
      "name": "python3",
      "display_name": "Python 3"
    },
    "language_info": {
      "name": "python"
    }
  },
  "cells": [
    {
      "cell_type": "markdown",
      "metadata": {
        "id": "view-in-github",
        "colab_type": "text"
      },
      "source": [
        "<a href=\"https://colab.research.google.com/github/Damini-Genzeon/QA-Automation-Developer-Training-2023/blob/main/PythonDay2/Q2.ipynb\" target=\"_parent\"><img src=\"https://colab.research.google.com/assets/colab-badge.svg\" alt=\"Open In Colab\"/></a>"
      ]
    },
    {
      "cell_type": "code",
      "execution_count": 37,
      "metadata": {
        "colab": {
          "base_uri": "https://localhost:8080/"
        },
        "id": "3Ze-7W6vtDTD",
        "outputId": "28161471-e7fe-4d82-b639-cfdb9eb295b1"
      },
      "outputs": [
        {
          "output_type": "stream",
          "name": "stdout",
          "text": [
            "[1, 2, 3, 4, 5, 1, 11]\n",
            "[1, 2, 3, 4, 5, 1, 11]\n",
            "2\n",
            "[1, 2, 7, 3, 4, 5, 1, 11]\n",
            "7\n",
            "[1, 2, 3, 4, 5, 1, 11]\n",
            "4\n",
            "[1, 1, 2, 3, 4, 5, 11]\n",
            "[11, 5, 4, 3, 2, 1, 1]\n",
            "[11, 5, 4, 3, 2, 1, 1, 4, 9, 6]\n",
            "[11, 5, 3, 2, 1, 1, 4, 9, 6]\n"
          ]
        }
      ],
      "source": [
        "# Q2. Implement the methods of List with examples.\n",
        "list1 = [1,2,3,4,5,1]\n",
        "list2 = [3,7,9,6,1]\n",
        "list1.append(11)\n",
        "print(list1)\n",
        "list3 = list1.copy()\n",
        "print(list3)\n",
        "print(list1.count(1))\n",
        "list1.insert(2,7)\n",
        "print(list1)\n",
        "print(list1.pop(2))\n",
        "print(list1)\n",
        "print(list1.index(5))\n",
        "list1.sort()\n",
        "print(list1)\n",
        "list1.reverse()\n",
        "print(list1)\n",
        "list1.extend([4,9,6])\n",
        "print(list1)\n",
        "list1.remove(4)\n",
        "print(list1)"
      ]
    }
  ]
}