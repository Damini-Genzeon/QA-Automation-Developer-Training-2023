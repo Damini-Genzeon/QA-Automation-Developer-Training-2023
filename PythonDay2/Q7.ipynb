{
  "nbformat": 4,
  "nbformat_minor": 0,
  "metadata": {
    "colab": {
      "provenance": [],
      "authorship_tag": "ABX9TyMmGATetQX4bsEn+DtSjSyf",
      "include_colab_link": true
    },
    "kernelspec": {
      "name": "python3",
      "display_name": "Python 3"
    },
    "language_info": {
      "name": "python"
    }
  },
  "cells": [
    {
      "cell_type": "markdown",
      "metadata": {
        "id": "view-in-github",
        "colab_type": "text"
      },
      "source": [
        "<a href=\"https://colab.research.google.com/github/Damini-Genzeon/QA-Automation-Developer-Training-2023/blob/main/PythonDay2/Q7.ipynb\" target=\"_parent\"><img src=\"https://colab.research.google.com/assets/colab-badge.svg\" alt=\"Open In Colab\"/></a>"
      ]
    },
    {
      "cell_type": "code",
      "execution_count": 55,
      "metadata": {
        "colab": {
          "base_uri": "https://localhost:8080/"
        },
        "id": "CkUKWiJ1OXAD",
        "outputId": "b4e522fd-2486-41e8-ca70-32575b709f34"
      },
      "outputs": [
        {
          "output_type": "stream",
          "name": "stdout",
          "text": [
            "['Finland', 'Ireland']\n",
            "['Finland', 'Ireland']\n"
          ]
        }
      ],
      "source": [
        "# Q7. Write program using filter and without filter\n",
        "\n",
        "# A) with filter\n",
        "countries = [\"Finland\",\"Germany\",\"Sweden\",\"Ireland\",\"Turkey\"]\n",
        "def myFun(x):\n",
        "  if x.find(\"and\") != -1 :\n",
        "    return True\n",
        "  else:\n",
        "    return False\n",
        "output = list(filter(myFun,countries))\n",
        "print(output)\n",
        "\n",
        "# b) without filter\n",
        "countries = [\"Finland\",\"Germany\",\"Sweden\",\"Ireland\",\"Turkey\"]\n",
        "output =[]\n",
        "for item in countries:\n",
        "  if item.find(\"and\") != -1 :\n",
        "    output.append(item)\n",
        "print(output)\n",
        "\n",
        ""
      ]
    }
  ]
}