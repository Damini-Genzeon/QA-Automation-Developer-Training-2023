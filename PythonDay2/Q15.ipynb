{
  "nbformat": 4,
  "nbformat_minor": 0,
  "metadata": {
    "colab": {
      "provenance": [],
      "authorship_tag": "ABX9TyPXB6XEo6np7N9IhMMg4q9M",
      "include_colab_link": true
    },
    "kernelspec": {
      "name": "python3",
      "display_name": "Python 3"
    },
    "language_info": {
      "name": "python"
    }
  },
  "cells": [
    {
      "cell_type": "markdown",
      "metadata": {
        "id": "view-in-github",
        "colab_type": "text"
      },
      "source": [
        "<a href=\"https://colab.research.google.com/github/Damini-Genzeon/QA-Automation-Developer-Training-2023/blob/main/PythonDay2/Q15.ipynb\" target=\"_parent\"><img src=\"https://colab.research.google.com/assets/colab-badge.svg\" alt=\"Open In Colab\"/></a>"
      ]
    },
    {
      "cell_type": "code",
      "execution_count": 231,
      "metadata": {
        "colab": {
          "base_uri": "https://localhost:8080/"
        },
        "id": "3Ze-7W6vtDTD",
        "outputId": "fcecec3c-8ba2-4a38-9dd0-d083a9b1ef90"
      },
      "outputs": [
        {
          "output_type": "stream",
          "name": "stdout",
          "text": [
            "tsnntj oaens trcoeeA\n",
            "..................\n",
            "ot emoc\n"
          ]
        }
      ],
      "source": [
        "# 15. Predict the output for the given code snippet and justify the result.\n",
        "\n",
        "print('A series of character designated as one object known as string'[::-1][4::3])\n",
        "print(\"..................\")\n",
        "print('Welcome to python training program'[3:10][::-1])"
      ]
    },
    {
      "cell_type": "code",
      "source": [],
      "metadata": {
        "id": "WxjIfkFtqEDH"
      },
      "execution_count": null,
      "outputs": []
    },
    {
      "cell_type": "code",
      "source": [],
      "metadata": {
        "id": "U7Ch2KnIqEn5"
      },
      "execution_count": null,
      "outputs": []
    }
  ]
}