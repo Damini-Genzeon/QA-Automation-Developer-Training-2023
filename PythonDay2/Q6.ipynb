{
  "nbformat": 4,
  "nbformat_minor": 0,
  "metadata": {
    "colab": {
      "provenance": [],
      "authorship_tag": "ABX9TyPTws/0nT+p5/4AXNEqdGXk",
      "include_colab_link": true
    },
    "kernelspec": {
      "name": "python3",
      "display_name": "Python 3"
    },
    "language_info": {
      "name": "python"
    }
  },
  "cells": [
    {
      "cell_type": "markdown",
      "metadata": {
        "id": "view-in-github",
        "colab_type": "text"
      },
      "source": [
        "<a href=\"https://colab.research.google.com/github/Damini-Genzeon/QA-Automation-Developer-Training-2023/blob/main/PythonDay2/Q6.ipynb\" target=\"_parent\"><img src=\"https://colab.research.google.com/assets/colab-badge.svg\" alt=\"Open In Colab\"/></a>"
      ]
    },
    {
      "cell_type": "code",
      "execution_count": 4,
      "metadata": {
        "colab": {
          "base_uri": "https://localhost:8080/"
        },
        "id": "zHtRcd9fDdeq",
        "outputId": "ba1a4091-4842-43f1-d220-d4162d60473d"
      },
      "outputs": [
        {
          "output_type": "stream",
          "name": "stdout",
          "text": [
            "AAAOUA\n"
          ]
        }
      ],
      "source": [
        "# Q6\n",
        "\n",
        "statelist = [\"Delhi\",\"Bihar\",\"UP\",\"Goa\",\"Gujarat\",\"Assam\",\"AP\"]\n",
        "vowelList = ['A','a','E','e','I','i','O','o','U','u']\n",
        "str1 = \"\"\n",
        "\n",
        "for item in statelist:\n",
        "  length = len(item)\n",
        "  if (item[int(length-2)] in vowelList):\n",
        "    str1 = str1 + item[int(length-2)]\n",
        "\n",
        "str2 = str1[len(str1)-1::-1].upper()\n",
        "print(str2)\n"
      ]
    },
    {
      "cell_type": "code",
      "source": [],
      "metadata": {
        "id": "H_5FBSpVJVsa"
      },
      "execution_count": null,
      "outputs": []
    }
  ]
}