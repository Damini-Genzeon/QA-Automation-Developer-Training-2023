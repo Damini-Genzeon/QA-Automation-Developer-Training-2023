{
  "nbformat": 4,
  "nbformat_minor": 0,
  "metadata": {
    "colab": {
      "provenance": [],
      "authorship_tag": "ABX9TyNfHqGRJgtG4QbCYUlfNcD4",
      "include_colab_link": true
    },
    "kernelspec": {
      "name": "python3",
      "display_name": "Python 3"
    },
    "language_info": {
      "name": "python"
    }
  },
  "cells": [
    {
      "cell_type": "markdown",
      "metadata": {
        "id": "view-in-github",
        "colab_type": "text"
      },
      "source": [
        "<a href=\"https://colab.research.google.com/github/Damini-Genzeon/QA-Automation-Developer-Training-2023/blob/main/PythonDay3/Q14.ipynb\" target=\"_parent\"><img src=\"https://colab.research.google.com/assets/colab-badge.svg\" alt=\"Open In Colab\"/></a>"
      ]
    },
    {
      "cell_type": "code",
      "execution_count": 2,
      "metadata": {
        "colab": {
          "base_uri": "https://localhost:8080/"
        },
        "id": "CB34Wf5zIjDk",
        "outputId": "de7217e5-725b-43a5-9836-9151b8be766e"
      },
      "outputs": [
        {
          "output_type": "stream",
          "name": "stdout",
          "text": [
            "['Finland', 'Ireland']\n"
          ]
        }
      ],
      "source": [
        "# Q14. Write a python program that generate desired output i.e. use the filter () function on a\n",
        "# sequence of countries to filter out the countries with names that don‟t contain the string\n",
        "# “and.” Input : Countries=[“Finland‟,‟Germany‟,‟Sweden‟,‟Ireland‟,‟Turkey‟] Output : [‟Finland‟, ‟Ireland‟]\n",
        "\n",
        "countries = [\"Finland\",\"Germany\",\"Sweden\",\"Ireland\",\"Turkey\"]\n",
        "def myFun(x):\n",
        "  if x.find(\"and\") != -1 :\n",
        "    return True\n",
        "  else:\n",
        "    return False\n",
        "output = list(filter(myFun,countries))\n",
        "print(output)\n"
      ]
    }
  ]
}