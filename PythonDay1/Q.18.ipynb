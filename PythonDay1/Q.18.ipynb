{
  "nbformat": 4,
  "nbformat_minor": 0,
  "metadata": {
    "colab": {
      "provenance": [],
      "authorship_tag": "ABX9TyM9tnp9GZGYp0m+qPrT8ij7",
      "include_colab_link": true
    },
    "kernelspec": {
      "name": "python3",
      "display_name": "Python 3"
    },
    "language_info": {
      "name": "python"
    }
  },
  "cells": [
    {
      "cell_type": "markdown",
      "metadata": {
        "id": "view-in-github",
        "colab_type": "text"
      },
      "source": [
        "<a href=\"https://colab.research.google.com/github/Damini-Genzeon/QA-Automation-Developer-Training-2023/blob/main/PythonDay1/Q.18.ipynb\" target=\"_parent\"><img src=\"https://colab.research.google.com/assets/colab-badge.svg\" alt=\"Open In Colab\"/></a>"
      ]
    },
    {
      "cell_type": "code",
      "execution_count": 32,
      "metadata": {
        "colab": {
          "base_uri": "https://localhost:8080/"
        },
        "id": "lj3WIT9y5rvs",
        "outputId": "5f72b10d-95bb-46c4-c74c-7f23882edfe4"
      },
      "outputs": [
        {
          "output_type": "stream",
          "name": "stdout",
          "text": [
            "Matrix 1 is :  [[2, 4], [6, 8]]\n",
            "Matrix 2 is :  [[1, 3], [5, 7]]\n",
            "Addition is :  [[3, 7], [11, 15]]\n",
            "Subtraction is :  [[1, 1], [1, 1]]\n",
            "Muiltiplication is : [[22, 34], [46, 74]]\n"
          ]
        }
      ],
      "source": [
        "# Q18. Matrix Subtraction, Addition, Multiplication\n",
        "\n",
        "list1 = [[2,4],[6,8]]\n",
        "list2 = [[1,3],[5,7]]\n",
        "print(\"Matrix 1 is : \" ,list1)\n",
        "print(\"Matrix 2 is : \" ,list2)\n",
        "\n",
        "list3 = [[list1[0][0]+list2[0][0],list1[0][1]+list2[0][1]], [list1[1][0]+list2[1][0],list1[1][1]+list2[1][1]]]\n",
        "print(\"Addition is : \",list3)\n",
        "list4 = [[list1[0][0]-list2[0][0],list1[0][1]-list2[0][1]], [list1[1][0]-list2[1][0],list1[1][1]-list2[1][1]]]\n",
        "print(\"Subtraction is : \",list4)\n",
        "list5 = [[list1[0][0]*list2[0][0]+list1[0][1]*list2[1][0],list1[0][0]*list2[0][1]+list1[0][1]*list2[1][1]],\n",
        " [list1[1][0]*list2[0][0]+list1[1][1]*list2[1][0],list1[1][0]*list2[0][1]+list1[1][1]*list2[1][1]]]\n",
        "print(\"Muiltiplication is :\", list5)"
      ]
    }
  ]
}