{
  "nbformat": 4,
  "nbformat_minor": 0,
  "metadata": {
    "colab": {
      "provenance": [],
      "authorship_tag": "ABX9TyMsaqU9gWF9Fx77lyCuhpOy",
      "include_colab_link": true
    },
    "kernelspec": {
      "name": "python3",
      "display_name": "Python 3"
    },
    "language_info": {
      "name": "python"
    }
  },
  "cells": [
    {
      "cell_type": "markdown",
      "metadata": {
        "id": "view-in-github",
        "colab_type": "text"
      },
      "source": [
        "<a href=\"https://colab.research.google.com/github/Damini-Genzeon/QA-Automation-Developer-Training-2023/blob/main/PythonDay1/Q9.ipynb\" target=\"_parent\"><img src=\"https://colab.research.google.com/assets/colab-badge.svg\" alt=\"Open In Colab\"/></a>"
      ]
    },
    {
      "cell_type": "code",
      "execution_count": 155,
      "metadata": {
        "colab": {
          "base_uri": "https://localhost:8080/"
        },
        "id": "3Ze-7W6vtDTD",
        "outputId": "ec606530-1186-4208-8d75-9f10d6c8412a"
      },
      "outputs": [
        {
          "output_type": "stream",
          "name": "stdout",
          "text": [
            "True\n",
            "True\n",
            "False\n",
            "True\n",
            "True\n",
            "False\n",
            "True\n",
            "True\n",
            "True\n",
            "True\n",
            "True\n"
          ]
        }
      ],
      "source": [
        "# Q9. Implement Comparison operators with examples.\n",
        "\n",
        "a=11\n",
        "b=7\n",
        "print(a>b)\n",
        "print(a+2>=b)\n",
        "print(a<b)\n",
        "print(a-5<b)\n",
        "print(a-5<=b-1)\n",
        "print(a==b)\n",
        "print(a==b+4)\n",
        "print(a!=b)\n",
        "print(a%b!=b)\n",
        "print(a+b<=99)\n",
        "print(a+b>a)\n"
      ]
    },
    {
      "cell_type": "code",
      "source": [],
      "metadata": {
        "id": "WxjIfkFtqEDH"
      },
      "execution_count": null,
      "outputs": []
    },
    {
      "cell_type": "code",
      "source": [],
      "metadata": {
        "id": "U7Ch2KnIqEn5"
      },
      "execution_count": null,
      "outputs": []
    }
  ]
}