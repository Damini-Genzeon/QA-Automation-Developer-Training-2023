{
  "nbformat": 4,
  "nbformat_minor": 0,
  "metadata": {
    "colab": {
      "provenance": [],
      "authorship_tag": "ABX9TyNLXTB1EoO1yEEQvM2geozS",
      "include_colab_link": true
    },
    "kernelspec": {
      "name": "python3",
      "display_name": "Python 3"
    },
    "language_info": {
      "name": "python"
    }
  },
  "cells": [
    {
      "cell_type": "markdown",
      "metadata": {
        "id": "view-in-github",
        "colab_type": "text"
      },
      "source": [
        "<a href=\"https://colab.research.google.com/github/Damini-Genzeon/QA-Automation-Developer-Training-2023/blob/main/PythonDay1/Q.17.ipynb\" target=\"_parent\"><img src=\"https://colab.research.google.com/assets/colab-badge.svg\" alt=\"Open In Colab\"/></a>"
      ]
    },
    {
      "cell_type": "code",
      "execution_count": 215,
      "metadata": {
        "colab": {
          "base_uri": "https://localhost:8080/"
        },
        "id": "3Ze-7W6vtDTD",
        "outputId": "7508ec66-3945-4eed-ca60-868e20313059"
      },
      "outputs": [
        {
          "output_type": "stream",
          "name": "stdout",
          "text": [
            "Enter value of x : 5\n",
            "ZZZZZOOOOOOOOOO\n"
          ]
        }
      ],
      "source": [
        "# Q17. You are required to generate a word similar to ZOO, X and Y that denote the number\n",
        "# of Zs and Os respectively. The generated word similar to ZOO where Y= 2 * X.\n",
        "# Input X= 2 Output ZZOOOO\n",
        "# Input X= 5 Output ZZZZZOOOOOOOOOO\n",
        "\n",
        "x = input(\"Enter value of x : \")\n",
        "x=int(x)\n",
        "y = x * 2\n",
        "\n",
        "print(x*'Z'+y*'O')"
      ]
    },
    {
      "cell_type": "code",
      "source": [],
      "metadata": {
        "id": "WxjIfkFtqEDH"
      },
      "execution_count": null,
      "outputs": []
    },
    {
      "cell_type": "code",
      "source": [],
      "metadata": {
        "id": "U7Ch2KnIqEn5"
      },
      "execution_count": null,
      "outputs": []
    }
  ]
}