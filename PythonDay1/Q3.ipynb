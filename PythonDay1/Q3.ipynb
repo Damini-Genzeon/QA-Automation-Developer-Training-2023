{
  "nbformat": 4,
  "nbformat_minor": 0,
  "metadata": {
    "colab": {
      "provenance": [],
      "authorship_tag": "ABX9TyNrdz2COZ0/EinJG4cNADlC",
      "include_colab_link": true
    },
    "kernelspec": {
      "name": "python3",
      "display_name": "Python 3"
    },
    "language_info": {
      "name": "python"
    }
  },
  "cells": [
    {
      "cell_type": "markdown",
      "metadata": {
        "id": "view-in-github",
        "colab_type": "text"
      },
      "source": [
        "<a href=\"https://colab.research.google.com/github/Damini-Genzeon/QA-Automation-Developer-Training-2023/blob/main/PythonDay1/Q3.ipynb\" target=\"_parent\"><img src=\"https://colab.research.google.com/assets/colab-badge.svg\" alt=\"Open In Colab\"/></a>"
      ]
    },
    {
      "cell_type": "code",
      "execution_count": 42,
      "metadata": {
        "colab": {
          "base_uri": "https://localhost:8080/"
        },
        "id": "3Ze-7W6vtDTD",
        "outputId": "14b6bf79-93ea-4590-e712-6e64fc94a0c2"
      },
      "outputs": [
        {
          "output_type": "stream",
          "name": "stdout",
          "text": [
            "3\n",
            "2\n",
            "2\n",
            "(4, 6, 8, 11)\n",
            "(4, 8)\n"
          ]
        }
      ],
      "source": [
        "# Q3. Implement the methods of Tuple with examples.\n",
        "tup1 = (2,4,6,8,11,2,2)\n",
        "print(tup1.count(2))\n",
        "print(tup1.index(6))\n",
        "print(tup1[0])\n",
        "print(tup1[1:5])\n",
        "print(tup1[1:5:2])"
      ]
    }
  ]
}