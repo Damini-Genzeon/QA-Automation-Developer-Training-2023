{
  "nbformat": 4,
  "nbformat_minor": 0,
  "metadata": {
    "colab": {
      "provenance": [],
      "authorship_tag": "ABX9TyPgHPoqbFCY6YKfSz13mIDM",
      "include_colab_link": true
    },
    "kernelspec": {
      "name": "python3",
      "display_name": "Python 3"
    },
    "language_info": {
      "name": "python"
    }
  },
  "cells": [
    {
      "cell_type": "markdown",
      "metadata": {
        "id": "view-in-github",
        "colab_type": "text"
      },
      "source": [
        "<a href=\"https://colab.research.google.com/github/Damini-Genzeon/QA-Automation-Developer-Training-2023/blob/main/PythonDay1/Q16.ipynb\" target=\"_parent\"><img src=\"https://colab.research.google.com/assets/colab-badge.svg\" alt=\"Open In Colab\"/></a>"
      ]
    },
    {
      "cell_type": "code",
      "execution_count": 26,
      "metadata": {
        "colab": {
          "base_uri": "https://localhost:8080/"
        },
        "id": "4ENlkptccUln",
        "outputId": "ebbdfc63-2c79-4c73-8803-11d0174ad96d"
      },
      "outputs": [
        {
          "output_type": "stream",
          "name": "stdout",
          "text": [
            "WASITACARORACATISAW\n",
            "WAS I TAC A RO RAC A TI SAW\n"
          ]
        }
      ],
      "source": [
        "# Q16. Write a python code to get desired output\n",
        "\n",
        "str1 = \"was it a car or a cat I saw\"\n",
        "str2 = str.replace(\" \",\"\").upper()\n",
        "print(str2)\n",
        "a = slice(3)\n",
        "b = slice(3,4)\n",
        "c = slice(4,7)\n",
        "d = slice(7,8)\n",
        "e = slice(8,10)\n",
        "f = slice(10,13)\n",
        "g = slice(13,14)\n",
        "h = slice(14,16)\n",
        "i = slice(16,19)\n",
        "print(str2[a],str2[b],str2[c],str2[d],str2[e],str2[f],str2[g],str2[h],str2[i])"
      ]
    }
  ]
}