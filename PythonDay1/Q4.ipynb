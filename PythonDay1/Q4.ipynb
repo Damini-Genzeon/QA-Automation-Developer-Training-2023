{
  "nbformat": 4,
  "nbformat_minor": 0,
  "metadata": {
    "colab": {
      "provenance": [],
      "authorship_tag": "ABX9TyN6plFEKFhxpnLkGneqtz5R",
      "include_colab_link": true
    },
    "kernelspec": {
      "name": "python3",
      "display_name": "Python 3"
    },
    "language_info": {
      "name": "python"
    }
  },
  "cells": [
    {
      "cell_type": "markdown",
      "metadata": {
        "id": "view-in-github",
        "colab_type": "text"
      },
      "source": [
        "<a href=\"https://colab.research.google.com/github/Damini-Genzeon/QA-Automation-Developer-Training-2023/blob/main/PythonDay1/Q4.ipynb\" target=\"_parent\"><img src=\"https://colab.research.google.com/assets/colab-badge.svg\" alt=\"Open In Colab\"/></a>"
      ]
    },
    {
      "cell_type": "code",
      "execution_count": 75,
      "metadata": {
        "colab": {
          "base_uri": "https://localhost:8080/"
        },
        "id": "3Ze-7W6vtDTD",
        "outputId": "9284dbc0-c7cc-4dd4-9ec9-53f26c820c23"
      },
      "outputs": [
        {
          "output_type": "stream",
          "name": "stdout",
          "text": [
            "{1: 'Python', 2: 'Java', 3: [1, 2], 'trainee': 'Damini'}\n",
            "dict_keys([1, 2, 3, 'trainee'])\n",
            "dict_values(['Python', 'Java', [1, 2], 'Damini'])\n",
            "{1: 'Python', 2: 'Java', 3: [1, 2], 'trainee': 'Damini'}\n",
            "dict_items([(1, 'Python'), (2, 'Java'), (3, [1, 2]), ('trainee', 'Damini')])\n",
            "Python\n",
            "('trainee', 'Damini')\n",
            "{1: 'Python', 2: 'Java', 3: [1, 2]}\n",
            "dict_items([(1, 'Python'), (2, 'Java'), (3, [1, 2])])\n",
            "{1: 'Python', 2: 'Java', 3: [1, 2], '4': 'DotNet'}\n",
            "{1: 'Python', 2: 'Java', 3: [1, 2], '4': 'DotNet', 'color': 'orange'}\n"
          ]
        }
      ],
      "source": [
        "# Q4. Implement the methods of Dictionary with examples.\n",
        "dict = {1:'Python',2:'Java',3:[1,2],'trainee':'Damini'}\n",
        "print(dict)\n",
        "print(dict.keys())\n",
        "print(dict.values())\n",
        "dict1 = dict.copy()\n",
        "print(dict1)\n",
        "print(dict.items())\n",
        "print(dict.get(1))\n",
        "print(dict.popitem())\n",
        "print(dict)\n",
        "print(dict.items())\n",
        "dict.update({'4':'DotNet'})\n",
        "print(dict)\n",
        "dict.setdefault('color','orange')\n",
        "print(dict)"
      ]
    }
  ]
}