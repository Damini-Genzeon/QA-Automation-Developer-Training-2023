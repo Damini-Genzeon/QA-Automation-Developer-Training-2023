{
  "nbformat": 4,
  "nbformat_minor": 0,
  "metadata": {
    "colab": {
      "provenance": [],
      "authorship_tag": "ABX9TyMEZWc4Z6z7Y0QEm7Rzkl2N",
      "include_colab_link": true
    },
    "kernelspec": {
      "name": "python3",
      "display_name": "Python 3"
    },
    "language_info": {
      "name": "python"
    }
  },
  "cells": [
    {
      "cell_type": "markdown",
      "metadata": {
        "id": "view-in-github",
        "colab_type": "text"
      },
      "source": [
        "<a href=\"https://colab.research.google.com/github/Damini-Genzeon/QA-Automation-Developer-Training-2023/blob/main/PythonDay1/Q11.ipynb\" target=\"_parent\"><img src=\"https://colab.research.google.com/assets/colab-badge.svg\" alt=\"Open In Colab\"/></a>"
      ]
    },
    {
      "cell_type": "code",
      "execution_count": 176,
      "metadata": {
        "colab": {
          "base_uri": "https://localhost:8080/"
        },
        "id": "3Ze-7W6vtDTD",
        "outputId": "5b8c3506-18a0-4080-aa75-b3148dd7a6a3"
      },
      "outputs": [
        {
          "output_type": "stream",
          "name": "stdout",
          "text": [
            "4\n",
            "7\n",
            "-7\n",
            "6\n",
            "0\n",
            "320\n"
          ]
        }
      ],
      "source": [
        "# Q11. Implement Bitwise operators with examples.\n",
        "\n",
        "a = 5\n",
        "b = 6\n",
        "\n",
        "print(a & b )\n",
        "print(a | b )\n",
        "print( ~ b )\n",
        "print(~(~ b))\n",
        "print(a >> b )\n",
        "print(a << b )\n",
        "\n",
        "\n",
        "\n",
        "\n"
      ]
    },
    {
      "cell_type": "code",
      "source": [],
      "metadata": {
        "id": "WxjIfkFtqEDH"
      },
      "execution_count": null,
      "outputs": []
    },
    {
      "cell_type": "code",
      "source": [],
      "metadata": {
        "id": "U7Ch2KnIqEn5"
      },
      "execution_count": null,
      "outputs": []
    }
  ]
}