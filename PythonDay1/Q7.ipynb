{
  "nbformat": 4,
  "nbformat_minor": 0,
  "metadata": {
    "colab": {
      "provenance": [],
      "authorship_tag": "ABX9TyPWXtlLEOfBCHOgFug0KxHa",
      "include_colab_link": true
    },
    "kernelspec": {
      "name": "python3",
      "display_name": "Python 3"
    },
    "language_info": {
      "name": "python"
    }
  },
  "cells": [
    {
      "cell_type": "markdown",
      "metadata": {
        "id": "view-in-github",
        "colab_type": "text"
      },
      "source": [
        "<a href=\"https://colab.research.google.com/github/Damini-Genzeon/QA-Automation-Developer-Training-2023/blob/main/PythonDay1/Q7.ipynb\" target=\"_parent\"><img src=\"https://colab.research.google.com/assets/colab-badge.svg\" alt=\"Open In Colab\"/></a>"
      ]
    },
    {
      "cell_type": "code",
      "execution_count": 115,
      "metadata": {
        "colab": {
          "base_uri": "https://localhost:8080/"
        },
        "id": "3Ze-7W6vtDTD",
        "outputId": "eb362ec7-7e3e-422f-bb72-b1487ccea9ff"
      },
      "outputs": [
        {
          "output_type": "stream",
          "name": "stdout",
          "text": [
            "5 4\n",
            "4 5\n",
            "9\n",
            "-1\n",
            "20\n",
            "0.8\n",
            "0\n",
            "2\n",
            "3\n",
            "52\n",
            "2\n",
            "258\n"
          ]
        }
      ],
      "source": [
        "# Q7. Implement Arithmetic operators with examples.\n",
        "\n",
        "a=5\n",
        "b=4\n",
        "c=2\n",
        "print(a,b)\n",
        "a,b=b,a\n",
        "print(a,b)\n",
        "print(a+b)\n",
        "print(a-b)\n",
        "print(a*b)\n",
        "print(a/b)\n",
        "print(a//b)\n",
        "a+=9\n",
        "print(a//b)\n",
        "print(a%b)\n",
        "a*=4\n",
        "print(a)\n",
        "print(a%5)\n",
        "print(a*b-c)"
      ]
    }
  ]
}