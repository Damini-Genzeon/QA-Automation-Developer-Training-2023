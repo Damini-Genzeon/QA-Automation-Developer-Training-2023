{
  "nbformat": 4,
  "nbformat_minor": 0,
  "metadata": {
    "colab": {
      "provenance": [],
      "authorship_tag": "ABX9TyPZUowCvDUhVnq4S7IMECt1",
      "include_colab_link": true
    },
    "kernelspec": {
      "name": "python3",
      "display_name": "Python 3"
    },
    "language_info": {
      "name": "python"
    }
  },
  "cells": [
    {
      "cell_type": "markdown",
      "metadata": {
        "id": "view-in-github",
        "colab_type": "text"
      },
      "source": [
        "<a href=\"https://colab.research.google.com/github/Damini-Genzeon/QA-Automation-Developer-Training-2023/blob/main/PythonDay1/Q8.ipynb\" target=\"_parent\"><img src=\"https://colab.research.google.com/assets/colab-badge.svg\" alt=\"Open In Colab\"/></a>"
      ]
    },
    {
      "cell_type": "code",
      "execution_count": 142,
      "metadata": {
        "colab": {
          "base_uri": "https://localhost:8080/"
        },
        "id": "3Ze-7W6vtDTD",
        "outputId": "288f71cd-66f1-471b-e269-8a775f6a577e"
      },
      "outputs": [
        {
          "output_type": "stream",
          "name": "stdout",
          "text": [
            "8 5 7 2\n",
            "15\n",
            "20\n",
            "48\n",
            "2\n",
            "30.0\n",
            "30\n",
            "1\n",
            "64.0\n",
            "69.0\n",
            "70\n"
          ]
        }
      ],
      "source": [
        "# Q8. Implement Assignment operators with examples.\n",
        "\n",
        "a,b,c,d=8,5,7,2\n",
        "print(a,b,c,d)\n",
        "c = c+a\n",
        "print(c)\n",
        "c += 5\n",
        "print(c)\n",
        "c = c*d+a\n",
        "print(c)\n",
        "e=d\n",
        "print(e)\n",
        "d =c/e+6\n",
        "print(d)\n",
        "d = int(d)\n",
        "print(d)\n",
        "r = (d+1)%b\n",
        "print(r)\n",
        "a= a*b*c/d\n",
        "print(a)\n",
        "a +=b\n",
        "print(a)\n",
        "b=int(a+1)\n",
        "print(b)"
      ]
    },
    {
      "cell_type": "code",
      "source": [],
      "metadata": {
        "id": "WxjIfkFtqEDH"
      },
      "execution_count": null,
      "outputs": []
    },
    {
      "cell_type": "code",
      "source": [],
      "metadata": {
        "id": "U7Ch2KnIqEn5"
      },
      "execution_count": null,
      "outputs": []
    }
  ]
}