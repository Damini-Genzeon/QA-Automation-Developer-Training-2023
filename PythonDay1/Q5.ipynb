{
  "nbformat": 4,
  "nbformat_minor": 0,
  "metadata": {
    "colab": {
      "provenance": [],
      "authorship_tag": "ABX9TyMnl9a4ITjOFPVxamzRMZKN",
      "include_colab_link": true
    },
    "kernelspec": {
      "name": "python3",
      "display_name": "Python 3"
    },
    "language_info": {
      "name": "python"
    }
  },
  "cells": [
    {
      "cell_type": "markdown",
      "metadata": {
        "id": "view-in-github",
        "colab_type": "text"
      },
      "source": [
        "<a href=\"https://colab.research.google.com/github/Damini-Genzeon/QA-Automation-Developer-Training-2023/blob/main/PythonDay1/Q5.ipynb\" target=\"_parent\"><img src=\"https://colab.research.google.com/assets/colab-badge.svg\" alt=\"Open In Colab\"/></a>"
      ]
    },
    {
      "cell_type": "code",
      "execution_count": 111,
      "metadata": {
        "colab": {
          "base_uri": "https://localhost:8080/"
        },
        "id": "3Ze-7W6vtDTD",
        "outputId": "8ba2699f-61b3-4ea2-bd07-40307ff876fb"
      },
      "outputs": [
        {
          "output_type": "stream",
          "name": "stdout",
          "text": [
            "{4, 5, 7, 9, 14, 15}\n",
            "[4, 5, 7, 9, 14, 15]\n",
            "{4, 5, 7, 9, 11, 14, 15}\n",
            "{5, 7, 9, 11, 14, 15}\n",
            "{5, 7, 11, 14, 15}\n",
            "{1, 3, 4, 5, 7, 11, 14, 15}\n",
            "{1, 3, 4, 5, 7, 11, 14, 15}\n",
            "{1, 3, 4, 5, 7, 11, 14, 15}\n",
            "{1, 3, 4, 5, 7, 11, 14, 15}\n",
            "{1, 3, 4, 5, 7, 11, 14, 15}\n",
            "{1, 3, 4, 5, 7, 11, 14}\n",
            "{11, 5, 14, 7}\n"
          ]
        }
      ],
      "source": [
        "# Q5. Implement the methods of Set with examples.\n",
        "set1 = {4,5,7,9,14,15,7,9}\n",
        "set2 = {1,3,4}\n",
        "print(set1)\n",
        "print(list(set1))\n",
        "set1.add(11)\n",
        "print(set1)\n",
        "set1.pop()\n",
        "print(set1)\n",
        "set1.remove(9)\n",
        "print(set1)\n",
        "print(set1|set2)\n",
        "print(set1.union(set2))\n",
        "print(set.union(set1,set2))\n",
        "set3 = set.union(set1,set2)\n",
        "print(set3)\n",
        "set4 = set3.copy()\n",
        "print(set4)\n",
        "set4.discard(15)\n",
        "print(set4)\n",
        "print(set4 - set2)\n"
      ]
    }
  ]
}