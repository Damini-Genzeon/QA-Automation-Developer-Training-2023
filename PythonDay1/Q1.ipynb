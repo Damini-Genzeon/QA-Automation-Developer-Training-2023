{
  "nbformat": 4,
  "nbformat_minor": 0,
  "metadata": {
    "colab": {
      "provenance": [],
      "authorship_tag": "ABX9TyP16wukP7j45nBOQl61zEgb",
      "include_colab_link": true
    },
    "kernelspec": {
      "name": "python3",
      "display_name": "Python 3"
    },
    "language_info": {
      "name": "python"
    }
  },
  "cells": [
    {
      "cell_type": "markdown",
      "metadata": {
        "id": "view-in-github",
        "colab_type": "text"
      },
      "source": [
        "<a href=\"https://colab.research.google.com/github/Damini-Genzeon/QA-Automation-Developer-Training-2023/blob/main/PythonDay1/Q1.ipynb\" target=\"_parent\"><img src=\"https://colab.research.google.com/assets/colab-badge.svg\" alt=\"Open In Colab\"/></a>"
      ]
    },
    {
      "cell_type": "code",
      "execution_count": 28,
      "metadata": {
        "colab": {
          "base_uri": "https://localhost:8080/"
        },
        "id": "3Ze-7W6vtDTD",
        "outputId": "f969a6af-2786-4f75-f8e4-6f1337f0a404"
      },
      "outputs": [
        {
          "output_type": "stream",
          "name": "stdout",
          "text": [
            "Learning python\n",
            "LEARNING PYTHON\n",
            "learning python\n",
            "Learning Python\n",
            "3\n",
            "Now i am Learning python\n",
            "15\n",
            "False\n",
            "False\n",
            "['Learning', 'python']\n",
            "Lezrning python\n",
            "\n",
            "\n",
            "[1, 2, 3, 4, 5, 1, 11]\n",
            "[1, 2, 3, 4, 5, 1, 11]\n",
            "2\n",
            "[1, 2, 7, 3, 4, 5, 1, 11]\n",
            "7\n",
            "[1, 2, 3, 4, 5, 1, 11]\n"
          ]
        }
      ],
      "source": [
        "# Q1. Implement the methods of String with examples.\n",
        "str = \"Learning python\"\n",
        "print(str)\n",
        "print(str.upper())\n",
        "print(str.lower())\n",
        "print(str.title())\n",
        "print(str.count('n'))\n",
        "print(\"Now i am {0}\".format(str))\n",
        "print(len(str))\n",
        "print(str.isalpha())\n",
        "print(str.isdigit())\n",
        "print(str.split(\" \"))\n",
        "print(str.replace('a','z'))\n",
        "print('\\n')\n",
        "# Q2. Implement the methods of List with examples.\n",
        "list1 = [1,2,3,4,5,1]\n",
        "list2 = [3,7,9,6,1]\n",
        "list1.append(11)\n",
        "print(list1)\n",
        "list3 = list1.copy()\n",
        "print(list3)\n",
        "print(list1.count(1))\n",
        "list1.insert(2,7)\n",
        "print(list1)\n",
        "print(list1.pop(2))\n",
        "print(list1)"
      ]
    }
  ]
}