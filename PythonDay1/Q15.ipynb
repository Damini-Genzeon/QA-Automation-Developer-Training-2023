{
  "nbformat": 4,
  "nbformat_minor": 0,
  "metadata": {
    "colab": {
      "provenance": [],
      "authorship_tag": "ABX9TyPhtsHjfzYzjkYBn5oanJRv",
      "include_colab_link": true
    },
    "kernelspec": {
      "name": "python3",
      "display_name": "Python 3"
    },
    "language_info": {
      "name": "python"
    }
  },
  "cells": [
    {
      "cell_type": "markdown",
      "metadata": {
        "id": "view-in-github",
        "colab_type": "text"
      },
      "source": [
        "<a href=\"https://colab.research.google.com/github/Damini-Genzeon/QA-Automation-Developer-Training-2023/blob/main/PythonDay1/Q15.ipynb\" target=\"_parent\"><img src=\"https://colab.research.google.com/assets/colab-badge.svg\" alt=\"Open In Colab\"/></a>"
      ]
    },
    {
      "cell_type": "code",
      "execution_count": 27,
      "metadata": {
        "colab": {
          "base_uri": "https://localhost:8080/"
        },
        "id": "4ENlkptccUln",
        "outputId": "20e5c6ce-ab08-4e6d-a907-724ccbded24c"
      },
      "outputs": [
        {
          "output_type": "stream",
          "name": "stdout",
          "text": [
            "tsnntj oaens trcoeeA\n",
            "..................\n",
            "ot emoc\n"
          ]
        }
      ],
      "source": [
        "# 15. Predict the output for the given code snippet and justify the result.\n",
        "\n",
        "print('A series of character designated as one object known as string'[::-1][4::3])\n",
        "print(\"..................\")\n",
        "print('Welcome to python training program'[3:10][::-1])"
      ]
    }
  ]
}