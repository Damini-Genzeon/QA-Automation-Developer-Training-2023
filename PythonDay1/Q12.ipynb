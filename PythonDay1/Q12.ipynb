{
  "nbformat": 4,
  "nbformat_minor": 0,
  "metadata": {
    "colab": {
      "provenance": [],
      "authorship_tag": "ABX9TyN9YBLxZ8A8UxZP60h9wbio",
      "include_colab_link": true
    },
    "kernelspec": {
      "name": "python3",
      "display_name": "Python 3"
    },
    "language_info": {
      "name": "python"
    }
  },
  "cells": [
    {
      "cell_type": "markdown",
      "metadata": {
        "id": "view-in-github",
        "colab_type": "text"
      },
      "source": [
        "<a href=\"https://colab.research.google.com/github/Damini-Genzeon/QA-Automation-Developer-Training-2023/blob/main/PythonDay1/Q12.ipynb\" target=\"_parent\"><img src=\"https://colab.research.google.com/assets/colab-badge.svg\" alt=\"Open In Colab\"/></a>"
      ]
    },
    {
      "cell_type": "code",
      "execution_count": 191,
      "metadata": {
        "colab": {
          "base_uri": "https://localhost:8080/"
        },
        "id": "3Ze-7W6vtDTD",
        "outputId": "c219a85d-756c-45e7-a4c8-56071d807708"
      },
      "outputs": [
        {
          "output_type": "stream",
          "name": "stdout",
          "text": [
            "overlapping\n",
            "not overlapping\n",
            "not overlapping\n",
            "not overlapping\n",
            "not overlapping\n",
            "not present\n",
            "not present\n",
            "not present\n",
            "not present\n",
            "not present\n"
          ]
        }
      ],
      "source": [
        "# Q12. Implement Membership operators with examples.\n",
        "\n",
        "list1 = [1, 2, 3, 4, 5]\n",
        "list2 = [1, 7, 8, 9]\n",
        "for item in list1:\n",
        "  if item in list2:\n",
        "    print(\"overlapping\")\n",
        "  else:\n",
        "    print(\"not overlapping\")\n",
        "\n",
        "for item in list1:\n",
        "  if (item not in list1):\n",
        "    print(\"present\")\n",
        "  else:\n",
        "    print(\"not present\")"
      ]
    },
    {
      "cell_type": "code",
      "source": [],
      "metadata": {
        "id": "WxjIfkFtqEDH"
      },
      "execution_count": null,
      "outputs": []
    },
    {
      "cell_type": "code",
      "source": [],
      "metadata": {
        "id": "U7Ch2KnIqEn5"
      },
      "execution_count": null,
      "outputs": []
    }
  ]
}